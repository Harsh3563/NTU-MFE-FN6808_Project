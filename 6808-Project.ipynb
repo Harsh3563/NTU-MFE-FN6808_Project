{
 "cells": [
  {
   "cell_type": "markdown",
   "metadata": {},
   "source": [
    "# 1 Modeling Volatiliy\n",
    "\n",
    "Find data for historical prices for any publicly traded equity. To ensure the length of data, use daily data for at least 3 years. Fit the historical data to\n",
    "\n",
    "1. Geometric Brownian motion\n",
    "2. Any non-constant volatility model\n",
    "\n",
    "Find market data for option prices for this stock. Use option prices to\n",
    "\n",
    "3. Show volatility smile\n",
    "4. Construct term structure of volatility\n",
    "5. Plot the volatility surface, as a function of time to maturity and moneyness "
   ]
  },
  {
   "cell_type": "code",
   "execution_count": 6,
   "metadata": {},
   "outputs": [],
   "source": [
    "import numpy as np\n",
    "import pandas as pd\n",
    "import matplotlib.pyplot as plt\n",
    "import matplotlib.dates as mdates\n",
    "import pybroker\n",
    "import yfinance as yf\n",
    "from pybroker.data import DataSource\n",
    "from pybroker.ext.data import AKShare\n",
    "import warnings\n",
    "from pylab import mpl\n",
    "from datetime import datetime\n",
    "from scipy.optimize import minimize\n",
    "from scipy.stats import norm\n",
    "warnings.filterwarnings('ignore')\n",
    "plt.style.use('seaborn-v0_8-white')\n",
    "mpl.rcParams['savefig.dpi'] = 300 \n",
    "mpl.rcParams['font.family'] = 'sans-serif'\n",
    "plt.rcParams['font.sans-serif'] = ['SimHei']\n",
    "plt.rcParams['axes.unicode_minus'] = False\n"
   ]
  },
  {
   "cell_type": "code",
   "execution_count": 7,
   "metadata": {},
   "outputs": [],
   "source": [
    "STRAT_DATE = '2021-01-01'\n",
    "END_DATE = '2024-10-17'\n",
    "CURRENT_DATE = END_DATE\n",
    "r_f = 0.03 "
   ]
  },
  {
   "cell_type": "markdown",
   "metadata": {},
   "source": [
    "## 1.1 Constant Volatility\n",
    "If the stock price follows **Geometric Brownian Motion**, then \n",
    "$$\n",
    "\\begin{aligned}\n",
    "d\\ln(S)=\\left( \\mu-\\frac{1}{2}\\sigma^{2} \\right)dt+\\sigma dB\n",
    "\\end{aligned}\n",
    "$$\n",
    "hence \n",
    "$$\n",
    "\\begin{gathered}\n",
    "\\Delta \\ln S =\\quad\\left(\\mu-\\frac12\\sigma^2\\right)\\Delta t+\\sigma\\Delta B \\\\\n",
    "\\ln S(t_i)-\\ln S(t_{i-1}) =\\quad\\left(\\mu-\\frac12\\sigma^2\\right)\\Delta t+\\sigma(B(t_i)-B(t_{i-1})) \\\\\n",
    "\\frac{\\ln S(t_i)-\\ln S(t_{i-1})}{\\sqrt{\\Delta t}} =\\quad\\left(\\mu-\\frac12\\sigma^2\\right)\\sqrt{\\Delta t}+\\sigma\\frac{B(t_i)-B(t_{i-1})}{\\sqrt{\\Delta t}} \n",
    "\\end{gathered}\n",
    "$$\n",
    "here we let $\\Delta t=1\\text{ day }= 1/252 \\text{ year }$ , let $y_{i}=\\frac{\\ln S(t_{i})-\\ln S(t_{i-1})}{\\sqrt{ \\Delta t }}$, then \n",
    "$$\n",
    "\\begin{aligned}\n",
    "\\hat{\\sigma}^{2}& =\\frac{1}{N-1}\\left(\\sum_{i=1}^{N}y_{i}^{2}-N\\bar{y}^{2}\\right) \\\\\n",
    "\\end{aligned}\n",
    "$$\n",
    "and \n",
    "$$\n",
    "\\hat{\\mu}=\\bar{y}+\\frac{1}{2}\\hat{\\sigma}^{2}\n",
    "$$"
   ]
  },
  {
   "cell_type": "code",
   "execution_count": 8,
   "metadata": {},
   "outputs": [],
   "source": [
    "# read local data\n",
    "df = pd.read_csv('MSFT_stock_data.csv', index_col=0)\n",
    "df.set_index('date', inplace=True)\n",
    "\n",
    "# calculate log returns\n",
    "delta_t = 1 / 252\n",
    "df['y'] = np.log(df['close'] / df['close'].shift(1)) / np.sqrt(delta_t)\n",
    "df.dropna(inplace=True)\n"
   ]
  },
  {
   "cell_type": "markdown",
   "metadata": {},
   "source": [
    "### Statistic Estimations"
   ]
  },
  {
   "cell_type": "code",
   "execution_count": null,
   "metadata": {},
   "outputs": [],
   "source": [
    "\n",
    "# estimate parameters\n",
    "y_bar = df['y'].mean()\n",
    "N = len(df)\n",
    "sigma_stat = np.std(df['y'])\n",
    "mu_stat = y_bar/np.sqrt(delta_t) + 1 / 2 * sigma_stat ** 2\n",
    "\n",
    "print(f\"sigma_stat = {sigma_stat:.4f}\")\n",
    "print(f\"mu_stat = {mu_stat:.4f}\")"
   ]
  },
  {
   "cell_type": "markdown",
   "metadata": {},
   "source": [
    "### Maximum Likelihood Estimation"
   ]
  },
  {
   "cell_type": "code",
   "execution_count": null,
   "metadata": {},
   "outputs": [],
   "source": [
    "def GBM_log_likelihood(params, log_returns):\n",
    "    mu_gbm, sigma_gbm = params\n",
    "    n = len(log_returns)\n",
    "    mu = (mu_gbm - 1/2 * sigma_gbm**2) * np.sqrt(delta_t)\n",
    "    sigma = sigma_gbm\n",
    "    log_likelihood = -n/2 * np.log(2 * np.pi * sigma**2) -\\\n",
    "                     1/(2 * sigma**2) * np.sum((log_returns - mu)**2)\n",
    "    return -log_likelihood\n",
    "\n",
    "initial_guess = [0.05, 0.25]\n",
    "results = minimize(GBM_log_likelihood, initial_guess, args=(df['y'], ))\n",
    "mu_gbm, sigma_gbm = results.x\n",
    "print(f\"sigma_gbm = {sigma_gbm:.4f}\")\n",
    "print(f\"mu_gbm = {mu_gbm:.4f}\")"
   ]
  },
  {
   "cell_type": "markdown",
   "metadata": {},
   "source": [
    "## 1.2 GARCH Model\n",
    "\n",
    "We use GARCH(1, 1) model to fit $y_{i}$, to get our conditional variance"
   ]
  },
  {
   "cell_type": "code",
   "execution_count": null,
   "metadata": {},
   "outputs": [],
   "source": [
    "import arch\n",
    "garch_model = arch.arch_model(df['y'], vol='garch', p=1, q=1)\n",
    "garch_fit = garch_model.fit(disp='off')\n",
    "df['GARCH_volatility'] =(garch_fit.conditional_volatility)\n",
    "garch_fit.summary()"
   ]
  },
  {
   "cell_type": "markdown",
   "metadata": {},
   "source": [
    "### Plot Results"
   ]
  },
  {
   "cell_type": "code",
   "execution_count": null,
   "metadata": {},
   "outputs": [],
   "source": [
    "plt.figure(figsize=(12, 6))\n",
    "plt.plot(df.index, df['y'], label='Log Returns')\n",
    "plt.title('MSFT Log Returns')\n",
    "plt.xlabel('Date')\n",
    "plt.ylabel('Log Returns')\n",
    "plt.legend()\n",
    "plt.show()"
   ]
  },
  {
   "cell_type": "code",
   "execution_count": null,
   "metadata": {},
   "outputs": [],
   "source": [
    "plt.figure(figsize=(12, 6))\n",
    "plt.plot(df.index, df[['GARCH_volatility']], linestyle='-', color='b')\n",
    "plt.axhline(y=sigma_stat, color='r', linestyle='--', label='Constant Volatility')\n",
    "plt.ylim(0)\n",
    "plt.xlabel('Date')\n",
    "plt.ylabel('GARCH_volatility')\n",
    "plt.title('GARCH Volatility Over Time')\n",
    "plt.xticks(rotation=45, ha='right')\n",
    "plt.gca().xaxis.set_major_locator(plt.MaxNLocator(10))  # Reduce the number of x-axis labels\n",
    "plt.grid()\n",
    "plt.legend()\n",
    "plt.tight_layout()\n",
    "plt.show()"
   ]
  },
  {
   "cell_type": "code",
   "execution_count": null,
   "metadata": {},
   "outputs": [],
   "source": [
    "plt.figure(figsize=(12, 6))\n",
    "\n",
    "ax1 = plt.gca()\n",
    "ax1.plot(df.index, df['GARCH_volatility'], linestyle='-', color='b', label='GARCH Volatility')\n",
    "ax1.axhline(y=sigma_stat, color='r', linestyle='--', label='Constant Volatility')\n",
    "ax1.set_xlabel('Date')\n",
    "ax1.set_ylabel('GARCH Volatility')\n",
    "ax1.tick_params(axis='y', labelcolor='b')  \n",
    "ax1.grid()\n",
    "ax1.legend(loc='upper left')    \n",
    "\n",
    "\n",
    "ax2 = ax1.twinx()\n",
    "ax2.plot(df.index, df['close'], linestyle='-', color='g', label='Close Price')\n",
    "ax2.set_ylabel('Close Price')\n",
    "ax2.tick_params(axis='y', labelcolor='g')  \n",
    "ax2.legend(loc='upper right')\n",
    "\n",
    "\n",
    "plt.xticks(rotation=45, ha='right')\n",
    "ax1.xaxis.set_major_locator(plt.MaxNLocator(10))  \n",
    "\n",
    "\n",
    "plt.title('GARCH Volatility and Close Price Over Time')\n",
    "plt.tight_layout()\n",
    "\n",
    "plt.show()"
   ]
  },
  {
   "cell_type": "markdown",
   "metadata": {},
   "source": [
    "## 1.3 Volatility Smile\n",
    "\n",
    "Find the today's call option data of MSFT, there are 15 different options. The expiration ranges from 2024 - 10 - 18 to 2026-12-18\n",
    "\n",
    "The *TTM* ( time to maturity) needs to be converted to years, so each is divided by 365 \n",
    "\n",
    "Since there are outliers in *impliedVolatility* "
   ]
  },
  {
   "cell_type": "code",
   "execution_count": 15,
   "metadata": {},
   "outputs": [],
   "source": [
    "df_option = pd.read_csv('call_option.csv') #Data was collected on 2024-10-16\n",
    "current_price = 416.72\n",
    "\n",
    "# choose the option date\n",
    "option_columns = ['expiration', 'strike', 'last', 'impliedVolatility']\n",
    "df_option = df_option[option_columns]\n",
    "df_option['expiration'] = pd.to_datetime(df_option['expiration'])\n",
    "df_option['impliedVolatility'] = df_option['impliedVolatility'] / 100\n",
    "\n",
    "# calculate time to maturity (in years)\n",
    "df_option['TTM'] = (df_option['expiration'] - pd.Timestamp('2024-10-16')).dt.days \n",
    "df_option['TTM'] = df_option['TTM'] / 365 # convert days to years\n",
    "df_option['moneyness'] = current_price / df_option['strike']\n",
    "\n",
    "# exclude options with implied volatility changing too dramatically\n",
    "df_option = df_option[(df_option['impliedVolatility'] > 0.01) & (df_option['impliedVolatility'] < 0.6)]\n",
    "df_option = df_option[df_option['impliedVolatility'].pct_change() < 0.3]\n",
    "\n",
    "# exclude options with extreme strike price \n",
    "df_option = df_option[(df_option['strike'] > current_price * 0.7) & (df_option['strike'] < current_price * 1.5)]\n",
    "\n",
    "#exclude options whose expiration near today or too far\n",
    "df_option = df_option[(df_option['expiration'] > pd.to_datetime('2024-10-19')) & (df_option['expiration'] < pd.to_datetime('2025-12-01'))]\n",
    "\n",
    "#exclude options that were never traded\n",
    "df_option = df_option[df_option['last'] > 0.01]\n"
   ]
  },
  {
   "cell_type": "code",
   "execution_count": null,
   "metadata": {},
   "outputs": [],
   "source": [
    "for i, (expiration, group) in enumerate(df_option.groupby('expiration')):\n",
    "        \n",
    "    if i % 5 == 0:\n",
    "        plt.figure(figsize=(10, 6))\n",
    "    plt.plot(group['strike'], group['impliedVolatility'], marker='', linestyle='-', label=f\"Expiration: {expiration.strftime('%Y-%m-%d')}\")\n",
    "    if i % 5 == 4:\n",
    "        plt.xlabel('Strike Price')\n",
    "        plt.ylabel('Implied Volatility')\n",
    "        plt.title('Implied Volatility vs. Strike Price by Expiration')\n",
    "        plt.legend()\n",
    "        plt.grid(True)\n",
    "        plt.show()"
   ]
  },
  {
   "cell_type": "markdown",
   "metadata": {},
   "source": [
    "## 1.4 Term Structure of Volatility"
   ]
  },
  {
   "cell_type": "code",
   "execution_count": null,
   "metadata": {},
   "outputs": [],
   "source": [
    "top_15_strikes = df_option['strike'].value_counts().head(15).index\n",
    "filtered_df = df_option[df_option['strike'].isin(top_15_strikes)]\n",
    "\n",
    "for i, (strike, group) in enumerate(filtered_df.groupby('strike')):\n",
    "        \n",
    "    if i % 5 == 0:\n",
    "        plt.figure(figsize=(10, 6))\n",
    "    plt.plot(group['TTM'], group['impliedVolatility'], marker='', linestyle='-', label=f\"Strike Price: {strike}\")\n",
    "    if i % 5 == 4:\n",
    "        plt.xlabel('TTM')\n",
    "        plt.ylabel('Implied Volatility')\n",
    "        plt.title('Implied Volatility vs. TTM by Strike')\n",
    "        plt.legend()\n",
    "        plt.grid(True)\n",
    "        plt.show()"
   ]
  },
  {
   "cell_type": "markdown",
   "metadata": {},
   "source": [
    "## 1.5 Volatility Surface"
   ]
  },
  {
   "cell_type": "code",
   "execution_count": null,
   "metadata": {},
   "outputs": [],
   "source": [
    "from scipy.interpolate import griddata\n",
    "\n",
    "# Create a grid of TTM and moneyness\n",
    "TTM_range = np.linspace(df_option['TTM'].min(), df_option['TTM'].max(), 50)\n",
    "moneyness_range = np.linspace(df_option['moneyness'].min(), df_option['moneyness'].max(), 50)\n",
    "TTM_grid, moneyness_grid = np.meshgrid(TTM_range, moneyness_range)\n",
    "\n",
    "# Interpolate implied volatility onto the grid\n",
    "impliedVolatility_grid = griddata(\n",
    "    (df_option['TTM'], df_option['moneyness']), \n",
    "    df_option['impliedVolatility'], \n",
    "    (TTM_grid, moneyness_grid), \n",
    "    method='linear'\n",
    ")\n",
    "\n",
    "# Plotting with plot_surface\n",
    "fig = plt.figure(figsize=(10, 6))\n",
    "ax = fig.add_subplot(111, projection='3d')\n",
    "ax.plot_surface(TTM_grid, moneyness_grid, impliedVolatility_grid, cmap=plt.get_cmap('viridis'), edgecolor='none')\n",
    "\n",
    "ax.set_ylabel('Moneyness')\n",
    "ax.set_xlabel('TTM (Time to Maturity)')\n",
    "ax.set_zlabel('Implied Volatility')\n",
    "\n",
    "plt.title('Volatility Surface')\n",
    "plt.show()\n"
   ]
  },
  {
   "cell_type": "markdown",
   "metadata": {},
   "source": [
    "# 2 Vanilla European option pricing"
   ]
  },
  {
   "cell_type": "code",
   "execution_count": null,
   "metadata": {},
   "outputs": [],
   "source": [
    "sigma, mu = [sigma_gbm, mu_gbm]\n",
    "params = garch_fit.params\n",
    "a, b, c = params[1], params[2], params[3]\n",
    "print(f\"sigma: {sigma:.4f}, mu: {mu:.4f}\")\n",
    "print(f\"a: {a:.4f}, b: {b:.4f}, c: {c:.4f}\")"
   ]
  },
  {
   "cell_type": "markdown",
   "metadata": {},
   "source": [
    "## Monte Carlo"
   ]
  },
  {
   "cell_type": "code",
   "execution_count": 20,
   "metadata": {},
   "outputs": [],
   "source": [
    "# def GARCH_simulate(row, params):\n",
    "#     a, b, c = params[1], params[2], params[3]\n",
    "#     GARCH_volatility = np.sqrt(a + b * row['y']**2 \\\n",
    "#                     + c * row['GARCH_volatility']**2)\n",
    "#     y = np.random.normal(0, GARCH_volatility)\n",
    "#     return pd.Series([y, GARCH_volatility], index=['y', 'GARCH_volatility'])\n",
    "    \n",
    "# T = 1\n",
    "# expiration = 29\n",
    "# for i in range(T):\n",
    "#     df_simu = df[['y', 'GARCH_volatility']].tail(1)\n",
    "#     df_simu['y'] = df_simu['y'] -\\\n",
    "#         (mu - 1/2 * df_simu['GARCH_volatility'].iloc[-1] ** 2) * np.sqrt(delta_t)\n",
    "#     for t in range(expiration):\n",
    "#         new_row = df_simu.iloc[-1].apply(GARCH_simulate, params)\n",
    "#         df_simu = pd.concat([df_simu, new_row])"
   ]
  },
  {
   "cell_type": "markdown",
   "metadata": {},
   "source": [
    "## 2.2 Numerical PDE"
   ]
  },
  {
   "cell_type": "code",
   "execution_count": 21,
   "metadata": {},
   "outputs": [],
   "source": [
    "def PDE_Pricing(row, S_0, r, sigma, M, N):\n",
    "    T = row['TTM']\n",
    "    K = row['strike']\n",
    "\n",
    "    dt = T / M\n",
    "    S_max = K * 2\n",
    "    dS = S_max / N\n",
    "\n",
    "    S = np.linspace(0, S_max, N+1)\n",
    "    V = np.maximum(S - K, 0)  \n",
    "\n",
    "    alpha = 0.25 * dt * (sigma ** 2 * S ** 2 / dS ** 2 - r * S / dS)\n",
    "    beta = -dt * 0.5 * (sigma ** 2 * S ** 2 / dS ** 2 + r)\n",
    "    gamma = 0.25 * dt * (sigma ** 2 * S ** 2 / dS ** 2 + r * S / dS)\n",
    "\n",
    "    a = -alpha[1:-1]\n",
    "    b = 1 - beta[1:-1]\n",
    "    c = -gamma[1:-1]\n",
    "\n",
    "    for j in range(M):\n",
    "        d = alpha[1:-1] * V[:-2] + (1 + beta[1:-1]) * V[1:-1] + gamma[1:-1] * V[2:]\n",
    "        d[0] -= a[0] * (0 - K * np.exp(-r * (T - (j + 1) * dt)))  \n",
    "        d[-1] -= c[-1] * (S_max - K)  \n",
    "\n",
    "        V[1:-1] = thomas_algorithm(a, b, c, d)\n",
    "\n",
    "    option_price = np.interp(S_0, S, V)\n",
    "    return option_price\n",
    "\n",
    "def thomas_algorithm(a, b, c, d):\n",
    "    n = len(d)\n",
    "    c_star = np.zeros(n-1)\n",
    "    d_star = np.zeros(n)\n",
    "\n",
    "    c_star[0] = c[0] / b[0]\n",
    "    d_star[0] = d[0] / b[0]\n",
    "    for i in range(1, n-1):\n",
    "        temp = b[i] - a[i] * c_star[i-1]\n",
    "        c_star[i] = c[i] / temp\n",
    "        d_star[i] = (d[i] - a[i] * d_star[i-1]) / temp\n",
    "    d_star[n-1] = (d[n-1] - a[n-1] * d_star[n-2]) / (b[n-1] - a[n-1] * c_star[n-2])\n",
    "\n",
    "    # inverse substitution\n",
    "    x = np.zeros(n)\n",
    "    x[-1] = d_star[-1]\n",
    "    for i in range(n-2, -1, -1):\n",
    "        x[i] = d_star[i] - c_star[i] * x[i+1]\n",
    "\n",
    "    return x\n",
    "\n",
    "df_option['PDE_Price'] = df_option.apply(PDE_Pricing, S_0=current_price, r=r_f, sigma=sigma, M=100, N=100, axis=1)"
   ]
  },
  {
   "cell_type": "markdown",
   "metadata": {},
   "source": [
    "## 2.3 Binomial Model"
   ]
  },
  {
   "cell_type": "markdown",
   "metadata": {},
   "source": [
    "### 2.3.1 Cox-Ross_Rubinstein"
   ]
  },
  {
   "cell_type": "code",
   "execution_count": 22,
   "metadata": {},
   "outputs": [],
   "source": [
    "from math import comb\n",
    "\n",
    "\n",
    "def Binomial_Pricing(row, S, sigma, delta_t, r_f):\n",
    "    u = np.exp(sigma * np.sqrt(delta_t))\n",
    "    d = 1 / u\n",
    "    p = (np.exp(r_f * delta_t) - d) / (u - d)\n",
    "    price = 0\n",
    "    days = int(row['TTM'] / delta_t)\n",
    "    for i in range(days+1):\n",
    "        prob = comb(days, i) * p**i * (1-p)**(days-i)\n",
    "        S_T = u**i * d**(days-i) * S\n",
    "        price += max(prob * (S_T - row['strike']), 0)\n",
    "    return price \n",
    "\n",
    "df_option['Binomial_CRR'] = df_option.apply(Binomial_Pricing, S=current_price, sigma=sigma, delta_t=delta_t, r_f=r_f, axis=1)\n"
   ]
  },
  {
   "cell_type": "markdown",
   "metadata": {},
   "source": [
    "### 2.3.2 Jarrow_Rudd"
   ]
  },
  {
   "cell_type": "code",
   "execution_count": 23,
   "metadata": {},
   "outputs": [],
   "source": [
    "\n",
    "def Binomial_Pricing(row, S, sigma, delta_t, r_f):\n",
    "    u = np.exp(sigma * np.sqrt(delta_t))\n",
    "    d = 1 / u\n",
    "    p = (np.exp(r_f * delta_t) - d) / (u - d)\n",
    "    price = 0\n",
    "    days = int(row['TTM'] / delta_t)\n",
    "    for i in range(days+1):\n",
    "        prob = comb(days, i) * p**i * (1-p)**(days-i)\n",
    "        S_T = u**i * d**(days-i) * S\n",
    "        price += max(prob * (S_T - row['strike']), 0)\n",
    "    return price \n",
    "\n",
    "df_option['Binomial_JR'] = df_option.apply(Binomial_Pricing, S=current_price, sigma=sigma, delta_t=delta_t, r_f=r_f, axis=1)"
   ]
  },
  {
   "cell_type": "markdown",
   "metadata": {},
   "source": [
    "## 2.4 Black-Scholes Formula"
   ]
  },
  {
   "cell_type": "code",
   "execution_count": 24,
   "metadata": {},
   "outputs": [],
   "source": [
    "\n",
    "def BS_formula(row, S, r, sigma):\n",
    "    \n",
    "    '''\n",
    "    use BS formula to calculate option price\n",
    "    S is stock price of MSFT on 17 Oct, 2024\n",
    "    r is set as 0.03\n",
    "    '''\n",
    "    \n",
    "    d1 = (np.log(S / row['strike'])\\\n",
    "           + (r + 1/2 * sigma**2)*(row['TTM']))\\\n",
    "              / (sigma * np.sqrt(row['TTM']))\n",
    "    d2 = d1 - sigma * np.sqrt(row['TTM'])\n",
    "    return S * norm.cdf(d1) \\\n",
    "        - row['strike'] * np.exp(-r * row['TTM']) * norm.cdf(d2)\n",
    "\n",
    "df_option['BS_price'] = df_option.apply(BS_formula, S=current_price, r = r_f, sigma=sigma, axis=1)"
   ]
  },
  {
   "cell_type": "markdown",
   "metadata": {},
   "source": [
    "## 2.5 Plot"
   ]
  },
  {
   "cell_type": "code",
   "execution_count": null,
   "metadata": {},
   "outputs": [],
   "source": [
    "# Create a 5x2 layout for displaying the plots with larger fonts\n",
    "fig, axes = plt.subplots(5, 2, figsize=(20, 30))\n",
    "axes = axes.flatten()\n",
    "\n",
    "# Set font size for labels, titles, and legends\n",
    "font_size = 24\n",
    "\n",
    "for i, (expiration, group) in enumerate(df_option.groupby('expiration')):\n",
    "    ax = axes[i]\n",
    "    ax.plot(group['strike'], group['last'], label='Observed Price', linestyle='-', color='blue')\n",
    "    ax.plot(group['strike'], group['BS_price'], label='BS Price', linestyle='--', color='red')\n",
    "    ax.plot(group['strike'], group['PDE_Price'], label='PDE Price', linestyle='--', color='green')\n",
    "    ax.plot(group['strike'], group['Binomial_CRR'], label='Binomial CRR Price', linestyle='--', color='purple')\n",
    "    ax.plot(group['strike'], group['Binomial_JR'], label='Binomial JR Price', linestyle='--', color='brown')\n",
    "\n",
    "    ax.set_xlabel('Strike Price', fontsize=font_size)\n",
    "    ax.set_ylabel('Price', fontsize=font_size)\n",
    "    ax.set_title(f'Expiration: {expiration}', fontsize=font_size)\n",
    "    ax.legend(fontsize=font_size)\n",
    "    ax.grid(True)\n",
    "\n",
    "    ax.tick_params(axis='both', which='major', labelsize=font_size)\n",
    "\n",
    "for j in range(i + 1, len(axes)):\n",
    "    fig.delaxes(axes[j])\n",
    "\n",
    "plt.tight_layout()\n",
    "plt.show()\n"
   ]
  },
  {
   "cell_type": "markdown",
   "metadata": {},
   "source": [
    "# 3 Variance Reduction in Monte Carlo"
   ]
  },
  {
   "cell_type": "markdown",
   "metadata": {},
   "source": [
    "## 3.1 Crude Monte Carlo"
   ]
  },
  {
   "cell_type": "code",
   "execution_count": 82,
   "metadata": {},
   "outputs": [],
   "source": [
    "# np.random.seed(42)\n",
    "def S_simulate(S_0, r_f, T, dt, sigma):\n",
    "    \"\"\" \n",
    "    simulate the price process of a stock \n",
    "    N is the number of simulation paths (cols)\n",
    "    M is the number of time intervals (rows)\n",
    "    \"\"\"\n",
    "    \n",
    "    N = 10000  # Number of paths\n",
    "    M = int(T / dt)  # Number of time intervals\n",
    "\n",
    "    # Adjusted parameters for the stock price process\n",
    "    mu = (r_f - 0.5 * sigma**2) * dt\n",
    "    std = sigma * np.sqrt(dt)\n",
    "    \n",
    "    # Simulate random components for each time interval and each path\n",
    "    random_shocks = np.random.normal(0, 1, (M, N))\n",
    "    \n",
    "    # Calculate the log returns and simulate the price process\n",
    "    log_returns = mu + std * random_shocks\n",
    "    log_returns = np.vstack([np.zeros(N), log_returns])  # Initial prices as zeros for log-returns\n",
    "    log_returns_anti = mu - std * random_shocks\n",
    "    log_returns_anti = np.vstack([np.zeros(N), log_returns_anti])  # Initial prices as zeros for log-returns\n",
    "\n",
    "    # Calculate the price process\n",
    "    S = S_0 * np.exp(np.cumsum(log_returns, axis=0))\n",
    "    S_anti = S_0 * np.exp(np.cumsum(log_returns_anti, axis=0))\n",
    "\n",
    "    # Create DataFrame to store the simulation results\n",
    "    df = pd.DataFrame(S)\n",
    "    df.index.name = \"Time Step\"\n",
    "    df.columns = [f\"Path_{i+1}\" for i in range(N)]\n",
    "    \n",
    "    df_anti = pd.DataFrame(S_anti)\n",
    "    df_anti.index.name = \"Time Step\"\n",
    "    df_anti.columns = [f\"Path_{i+1}\" for i in range(N)]\n",
    "    return [df, df_anti]\n",
    "K = 400\n",
    "T = 1\n",
    "df_simu, df_simu_anti = S_simulate(S_0=current_price, r_f=r_f, T=1, dt=delta_t, sigma=sigma)\n",
    "df_MC = pd.DataFrame()"
   ]
  },
  {
   "cell_type": "code",
   "execution_count": 83,
   "metadata": {},
   "outputs": [],
   "source": [
    "def Crude_Monte_Carlo(df_simu, K, r_f, T):\n",
    "    \"\"\" \n",
    "    This function is used to price \n",
    "    Asian Function by \n",
    "    Crude Monte Carlo Method \n",
    "    \"\"\"\n",
    "\n",
    "    average_prices = df_simu.mean(axis=0)\n",
    "\n",
    "    payoffs = np.maximum(average_prices - K, 0)\n",
    "    \n",
    "    # Discount the payoffs back to present value\n",
    "\n",
    "    discounted_payoffs = np.exp(-r_f * T) * payoffs\n",
    "    \n",
    "    return discounted_payoffs\n",
    "df_MC['Crude'] = Crude_Monte_Carlo(df_simu, K, r_f=r_f, T=1)\n"
   ]
  },
  {
   "cell_type": "markdown",
   "metadata": {},
   "source": [
    "## 3.2 Control Variate"
   ]
  },
  {
   "cell_type": "code",
   "execution_count": 84,
   "metadata": {},
   "outputs": [],
   "source": [
    "from scipy.stats import linregress\n",
    "\n",
    "def Control_Variate(df_simu, S0, K, r_f, T, dt, sigma):\n",
    "    x = np.exp(-r_f * T) * np.maximum(df_simu.mean() - K, 0)\n",
    "    y = np.exp(-r_f * T) * np.maximum(np.exp(np.log(df_simu).mean()) - K, 0)\n",
    "\n",
    "    beta, intercept, r_value, p_value, std_err = linregress(y, x)\n",
    "    \n",
    "    # A function to compute the expectation \n",
    "    # of geometric Asian call option price\n",
    "    def phi_calculate(sigma_origin):\n",
    "        n = T / dt\n",
    "        sigma = np.sqrt((n + 1) * (2 * n + 1) / (6 * n**2) * sigma_origin**2)\n",
    "        mu = (n + 1) / (2 * n) * (r_f - sigma_origin**2 / 2) + sigma**2 / 2\n",
    "        d1 = (np.log(S0 / K) + (mu - sigma**2 / 2) * T)/\\\n",
    "            (sigma * np.sqrt(T))\n",
    "        d2 = d1 - sigma * np.sqrt(T)\n",
    "        return np.exp((mu-r_f) * T) * S0 * norm.cdf(d1) \\\n",
    "               - np.exp(-r_f * T) * K * norm.cdf(d2)\n",
    "\n",
    "    phi = phi_calculate(sigma_origin=sigma)  \n",
    "    return x + beta * (phi - y)\n",
    "\n",
    "df_MC['Control_Varite'] = Control_Variate(df_simu, S0=current_price, K=K, r_f=r_f, T=1, dt=delta_t, sigma=sigma)"
   ]
  },
  {
   "cell_type": "markdown",
   "metadata": {},
   "source": [
    "## 3.3 Antithetic Variate"
   ]
  },
  {
   "cell_type": "code",
   "execution_count": 85,
   "metadata": {},
   "outputs": [],
   "source": [
    "def Antithetic_Variate(df_simu, df_anti, S0, K, r_f, T):\n",
    "    x = np.maximum(df_simu.mean() - K, 0)\n",
    "    y = np.maximum(df_anti.mean() - K, 0)\n",
    "    return np.exp(-r_f * T) * (x + y) / 2\n",
    "df_MC['Antithetic_Variate'] = Antithetic_Variate(df_simu=df_simu, df_anti=df_simu_anti, S0=current_price, K=K, r_f=r_f, T=T)"
   ]
  },
  {
   "cell_type": "markdown",
   "metadata": {},
   "source": [
    "## 3.4 Plot"
   ]
  },
  {
   "cell_type": "code",
   "execution_count": 86,
   "metadata": {},
   "outputs": [
    {
     "data": {
      "image/png": "[encoded data removed]",
      "text/plain": [
       "<Figure size 2000x800 with 1 Axes>"
      ]
     },
     "metadata": {},
     "output_type": "display_data"
    }
   ],
   "source": [
    "import numpy as np\n",
    "import matplotlib.pyplot as plt\n",
    "import scipy.stats as stats\n",
    "\n",
    "# 设定图像大小\n",
    "fig, ax = plt.subplots(figsize=(20, 8))\n",
    "\n",
    "# 数据列及对应的颜色和标签\n",
    "columns = ['Crude', 'Control_Varite', 'Antithetic_Variate']\n",
    "colors = ['tab:blue', 'tab:red', 'tab:green']\n",
    "labels = ['Crude', 'Control Variate', 'Antithetic Variate']\n",
    "\n",
    "# 遍历每一列数据，计算均值和标准差，并绘制 PDF\n",
    "for column, color, label in zip(columns, colors, labels):\n",
    "    data = df_MC[column]\n",
    "    mean, std = data.mean(), data.std()\n",
    "    x = np.linspace(mean - 3 * std, mean + 3 * std, 100)\n",
    "    pdf = stats.norm.pdf(x, mean, std)\n",
    "    \n",
    "    # 填充 PDF 曲线下的区域\n",
    "    plt.fill_between(x, pdf, alpha=0.3, color=color, label=label)\n",
    "    \n",
    "    # 绘制 PDF 曲线\n",
    "    plt.plot(x, pdf, color=color, alpha=0.8, lw=2)\n",
    "    \n",
    "    # 绘制均值的垂直线\n",
    "    plt.axvline(mean, color=color, linestyle='--', lw=2, label=f'{label} Mean: {mean:.2f}')\n",
    "\n",
    "# 图表标题和标签\n",
    "plt.title(\"Comparison of Crude, Antithetic Variate, and Control Variate Methods\", fontsize=16)\n",
    "plt.ylabel(\"Probability Density\", fontsize=14)\n",
    "plt.xlabel(\"Option Price\", fontsize=14)\n",
    "\n",
    "# 网格\n",
    "plt.grid(True, which='both', linestyle='--', linewidth=0.5)\n",
    "\n",
    "# 图例\n",
    "plt.legend(fontsize=12, loc='upper right')\n",
    "\n",
    "# 显示图表\n",
    "plt.show()\n"
   ]
  }
 ],
 "metadata": {
  "kernelspec": {
   "display_name": "Python 3",
   "language": "python",
   "name": "python3"
  },
  "language_info": {
   "codemirror_mode": {
    "name": "ipython",
    "version": 3
   },
   "file_extension": ".py",
   "mimetype": "text/x-python",
   "name": "python",
   "nbconvert_exporter": "python",
   "pygments_lexer": "ipython3",
   "version": "3.12.3"
  }
 },
 "nbformat": 4,
 "nbformat_minor": 2
}
